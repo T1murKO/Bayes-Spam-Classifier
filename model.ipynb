{
 "cells": [
  {
   "cell_type": "code",
   "execution_count": 1,
   "outputs": [],
   "source": [
    "import pandas as pd\n",
    "\n",
    "from sklearn.naive_bayes import MultinomialNB, GaussianNB, BernoulliNB\n",
    "from sklearn.model_selection import train_test_split\n",
    "\n",
    "from sklearn.metrics import accuracy_score\n",
    "from preprocessing.prepare_data import DataPreprocessor\n"
   ],
   "metadata": {
    "collapsed": false,
    "pycharm": {
     "name": "#%%\n"
    }
   }
  },
  {
   "cell_type": "markdown",
   "source": [
    "### Loading data"
   ],
   "metadata": {
    "collapsed": false,
    "pycharm": {
     "name": "#%% md\n"
    }
   }
  },
  {
   "cell_type": "code",
   "execution_count": 2,
   "outputs": [],
   "source": [
    "messages_data = pd.read_csv('data/spam.csv', encoding='latin-1')"
   ],
   "metadata": {
    "collapsed": false,
    "pycharm": {
     "name": "#%%\n"
    }
   }
  },
  {
   "cell_type": "markdown",
   "source": [
    "### Review the data"
   ],
   "metadata": {
    "collapsed": false
   }
  },
  {
   "cell_type": "code",
   "execution_count": 3,
   "outputs": [
    {
     "name": "stdout",
     "output_type": "stream",
     "text": [
      "Number of samples:  5572\n"
     ]
    },
    {
     "data": {
      "text/plain": "     v1                                                 v2\n0   ham  Go until jurong point, crazy.. Available only ...\n1   ham                      Ok lar... Joking wif u oni...\n2  spam  Free entry in 2 a wkly comp to win FA Cup fina...",
      "text/html": "<div>\n<style scoped>\n    .dataframe tbody tr th:only-of-type {\n        vertical-align: middle;\n    }\n\n    .dataframe tbody tr th {\n        vertical-align: top;\n    }\n\n    .dataframe thead th {\n        text-align: right;\n    }\n</style>\n<table border=\"1\" class=\"dataframe\">\n  <thead>\n    <tr style=\"text-align: right;\">\n      <th></th>\n      <th>v1</th>\n      <th>v2</th>\n    </tr>\n  </thead>\n  <tbody>\n    <tr>\n      <th>0</th>\n      <td>ham</td>\n      <td>Go until jurong point, crazy.. Available only ...</td>\n    </tr>\n    <tr>\n      <th>1</th>\n      <td>ham</td>\n      <td>Ok lar... Joking wif u oni...</td>\n    </tr>\n    <tr>\n      <th>2</th>\n      <td>spam</td>\n      <td>Free entry in 2 a wkly comp to win FA Cup fina...</td>\n    </tr>\n  </tbody>\n</table>\n</div>"
     },
     "execution_count": 3,
     "metadata": {},
     "output_type": "execute_result"
    }
   ],
   "source": [
    "print('Number of samples: ', messages_data.shape[0])\n",
    "messages_data.head(3)"
   ],
   "metadata": {
    "collapsed": false,
    "pycharm": {
     "name": "#%%\n"
    }
   }
  },
  {
   "cell_type": "markdown",
   "source": [
    "### Cleaning messages and extracting vectorized words"
   ],
   "metadata": {
    "collapsed": false,
    "pycharm": {
     "name": "#%% md\n"
    }
   }
  },
  {
   "cell_type": "code",
   "execution_count": 4,
   "outputs": [],
   "source": [
    "data_preprocessor = DataPreprocessor()\n",
    "\n",
    "X,y = data_preprocessor.get_x_y(messages_data)"
   ],
   "metadata": {
    "collapsed": false,
    "pycharm": {
     "name": "#%%\n"
    }
   }
  },
  {
   "cell_type": "code",
   "source": [
    "print('X shape: ',X.shape)\n",
    "X.iloc[0]"
   ],
   "metadata": {
    "collapsed": false,
    "pycharm": {
     "name": "#%%\n"
    }
   },
   "execution_count": 5,
   "outputs": [
    {
     "name": "stdout",
     "output_type": "stream",
     "text": [
      "X shape:  (5572, 7791)\n"
     ]
    },
    {
     "data": {
      "text/plain": "____           0\naa             0\naah            0\naaniye         0\naaooooright    0\n              ..\nûªve           0\nûï             0\nûïharry        0\nûò             0\nûówell         0\nName: 0, Length: 7791, dtype: int64"
     },
     "execution_count": 5,
     "metadata": {},
     "output_type": "execute_result"
    }
   ]
  },
  {
   "cell_type": "markdown",
   "source": [
    "### Splitting data"
   ],
   "metadata": {
    "collapsed": false,
    "pycharm": {
     "name": "#%% md\n"
    }
   }
  },
  {
   "cell_type": "code",
   "execution_count": 6,
   "outputs": [],
   "source": [
    "X_train, X_test, y_train, y_test = train_test_split(X, y, test_size=0.25)"
   ],
   "metadata": {
    "collapsed": false,
    "pycharm": {
     "name": "#%%\n"
    }
   }
  },
  {
   "cell_type": "code",
   "execution_count": 7,
   "outputs": [
    {
     "data": {
      "text/plain": "MultinomialNB()"
     },
     "execution_count": 7,
     "metadata": {},
     "output_type": "execute_result"
    }
   ],
   "source": [
    "multinomial_nbc = MultinomialNB()\n",
    "multinomial_nbc.fit(X_train,y_train)\n"
   ],
   "metadata": {
    "collapsed": false,
    "pycharm": {
     "name": "#%%\n"
    }
   }
  },
  {
   "cell_type": "code",
   "execution_count": 8,
   "outputs": [
    {
     "name": "stdout",
     "output_type": "stream",
     "text": [
      "MultinomialNB accuracy:  0.9763101220387652\n"
     ]
    }
   ],
   "source": [
    "y_pred_multinomial = multinomial_nbc.predict(X_test)\n",
    "print('MultinomialNB accuracy: ', accuracy_score(y_test, y_pred_multinomial))"
   ],
   "metadata": {
    "collapsed": false,
    "pycharm": {
     "name": "#%%\n"
    }
   }
  },
  {
   "cell_type": "code",
   "execution_count": 9,
   "outputs": [],
   "source": [
    "gaussian_nb_clf = GaussianNB()\n",
    "gaussian_nb_clf.fit(X_train, y_train);"
   ],
   "metadata": {
    "collapsed": false,
    "pycharm": {
     "name": "#%%\n"
    }
   }
  },
  {
   "cell_type": "code",
   "execution_count": 10,
   "outputs": [
    {
     "name": "stdout",
     "output_type": "stream",
     "text": [
      "GaussianNB accuracy:  0.8930366116295765\n"
     ]
    }
   ],
   "source": [
    "y_pred_gaussian = gaussian_nb_clf.predict(X_test)\n",
    "print('GaussianNB accuracy: ', accuracy_score(y_test, y_pred_gaussian))"
   ],
   "metadata": {
    "collapsed": false,
    "pycharm": {
     "name": "#%%\n"
    }
   }
  },
  {
   "cell_type": "code",
   "execution_count": 11,
   "outputs": [],
   "source": [
    "bernoulli_nbc = BernoulliNB()\n",
    "bernoulli_nbc.fit(X_train,y_train);"
   ],
   "metadata": {
    "collapsed": false,
    "pycharm": {
     "name": "#%%\n"
    }
   }
  },
  {
   "cell_type": "code",
   "execution_count": 12,
   "outputs": [
    {
     "name": "stdout",
     "output_type": "stream",
     "text": [
      "BernoulliNB accuracy:  0.9784637473079684\n"
     ]
    }
   ],
   "source": [
    "y_pred_bernoulli = bernoulli_nbc.predict(X_test)\n",
    "print('BernoulliNB accuracy: ', accuracy_score(y_test, y_pred_bernoulli))"
   ],
   "metadata": {
    "collapsed": false,
    "pycharm": {
     "name": "#%%\n"
    }
   }
  },
  {
   "cell_type": "markdown",
   "source": [
    "Real message test with BernoulliNB classifier:"
   ],
   "metadata": {
    "collapsed": false,
    "pycharm": {
     "name": "#%% md\n",
     "is_executing": true
    }
   },
   "outputs": [
    {
     "ename": "SyntaxError",
     "evalue": "invalid syntax (<ipython-input-1-d7d758c700bc>, line 1)",
     "output_type": "error",
     "traceback": [
      "\u001B[1;36m  File \u001B[1;32m\"<ipython-input-1-d7d758c700bc>\"\u001B[1;36m, line \u001B[1;32m1\u001B[0m\n\u001B[1;33m    Real message test:\u001B[0m\n\u001B[1;37m         ^\u001B[0m\n\u001B[1;31mSyntaxError\u001B[0m\u001B[1;31m:\u001B[0m invalid syntax\n"
     ]
    }
   ]
  },
  {
   "cell_type": "code",
   "execution_count": 13,
   "outputs": [],
   "source": [
    "message = '''I know mrwhatisthis is one of your password on day of hack..\n",
    "Lets get directly to the point.\n",
    "Not one person has paid me to check about you.\n",
    "You do not know me and you're probably thinking why you are getting this email?\n",
    "in fact, i actually placed a malware on the adult vids (adult porn) website and you know what, you visited this site to experience fun (you know what i mean).\n",
    "\n",
    "When you were viewing videos, your browser started out operating as a RDP having a key logger which provided me with accessibility to your display and web cam.\n",
    "\n",
    "immediately after that, my malware obtained every one of your contacts from your Messenger, FB, as well as email account.\n",
    "\n",
    "after that i created a double-screen video. 1st part shows the video you were viewing (you have a nice taste omg), and 2nd part displays the recording of your cam, and its you.\n",
    "\n",
    "Best solution would be to pay me $5599.\n",
    "We are going to refer to it as a donation. in this situation, i most certainly will without delay remove your video.\n",
    "\n",
    "\n",
    "Bitcoin address: 15Ti1AK3zNntkSJGB8dnJs1rQsJepwF85o\n",
    "\n",
    "[case SeNSiTiVe, copy & paste it]\n",
    "\n",
    "You could go on your life like this never happened and you will not ever hear back again from me.\n",
    "\n",
    "You'll make the payment via Bitcoin (if you do not know this, search 'how to buy bitcoin' in Google).\n",
    "if you are planning on going to the law, surely, this e-mail can not be traced back to me, because it's hacked too.\n",
    "\n",
    "I have taken care of my actions. i am not looking to ask you for a lot, i simply want to be paid.\n",
    "\n",
    "\n",
    "if i do not receive the bitcoin;, i definitely will send out your video recording to all of your contacts including friends and family, co-workers, and so on.\n",
    "\n",
    "\n",
    "Nevertheless, if i do get paid, i will destroy the recording immediately.\n",
    "\n",
    "If you need proof, reply with Yeah then i will send out your video recording to your 8 friends.\n",
    "it's a nonnegotiable offer and thus please don't waste mine time & yours by replying to this message.'''\n"
   ],
   "metadata": {
    "collapsed": false,
    "pycharm": {
     "name": "#%%\n"
    }
   }
  },
  {
   "cell_type": "code",
   "execution_count": 14,
   "outputs": [
    {
     "data": {
      "text/plain": "\"I know mrwhatisthis is one of your password on day of hack..\\nLets get directly to the point.\\nNot one person has paid me to check about you.\\nYou do not know me and you're probably thinking why you are getting this email?\\nin fact, i actually placed a malware on the adult vids (adult porn) website and you know what, you visited this site to experience fun (you know what i mean).\\n\\nWhen you were viewing videos, your browser started out operating as a RDP having a key logger which provided me with accessibility to your display and web cam.\\n\\nimmediately after that, my malware obtained every one of your contacts from your Messenger, FB, as well as email account.\\n\\nafter that i created a double-screen video. 1st part shows the video you were viewing (you have a nice taste omg), and 2nd part displays the recording of your cam, and its you.\\n\\nBest solution would be to pay me $5599.\\nWe are going to refer to it as a donation. in this situation, i most certainly will without delay remove your video.\\n\\n\\nBitcoin address: 15Ti1AK3zNntkSJGB8dnJs1rQsJepwF85o\\n\\n[case SeNSiTiVe, copy & paste it]\\n\\nYou could go on your life like this never happened and you will not ever hear back again from me.\\n\\nYou'll make the payment via Bitcoin (if you do not know this, search 'how to buy bitcoin' in Google).\\nif you are planning on going to the law, surely, this e-mail can not be traced back to me, because it's hacked too.\\n\\nI have taken care of my actions. i am not looking to ask you for a lot, i simply want to be paid.\\n\\n\\nif i do not receive the bitcoin;, i definitely will send out your video recording to all of your contacts including friends and family, co-workers, and so on.\\n\\n\\nNevertheless, if i do get paid, i will destroy the recording immediately.\\n\\nIf you need proof, reply with Yeah then i will send out your video recording to your 8 friends.\\nit's a nonnegotiable offer and thus please don't waste mine time & yours by replying to this message.\""
     },
     "execution_count": 14,
     "metadata": {},
     "output_type": "execute_result"
    }
   ],
   "source": [
    "message"
   ],
   "metadata": {
    "collapsed": false,
    "pycharm": {
     "name": "#%%\n"
    }
   }
  },
  {
   "cell_type": "code",
   "execution_count": 15,
   "outputs": [],
   "source": [
    "single_message = pd.DataFrame(columns=['v2'],data=[message])\n",
    "single_message = data_preprocessor.clean_messages(single_message)\n",
    "single_message = data_preprocessor.get_tokenized(single_message)"
   ],
   "metadata": {
    "collapsed": false,
    "pycharm": {
     "name": "#%%\n"
    }
   }
  },
  {
   "cell_type": "code",
   "execution_count": 16,
   "outputs": [
    {
     "name": "stdout",
     "output_type": "stream",
     "text": [
      "Message was classified as:  spam\n"
     ]
    }
   ],
   "source": [
    "print('Message was classified as: ', bernoulli_nbc.predict(single_message)[0])\n",
    "\n",
    "\n",
    "\n"
   ],
   "metadata": {
    "collapsed": false,
    "pycharm": {
     "name": "#%%\n"
    }
   }
  }
 ],
 "metadata": {
  "kernelspec": {
   "display_name": "Python 3",
   "language": "python",
   "name": "python3"
  },
  "language_info": {
   "codemirror_mode": {
    "name": "ipython",
    "version": 2
   },
   "file_extension": ".py",
   "mimetype": "text/x-python",
   "name": "python",
   "nbconvert_exporter": "python",
   "pygments_lexer": "ipython2",
   "version": "2.7.6"
  }
 },
 "nbformat": 4,
 "nbformat_minor": 0
}